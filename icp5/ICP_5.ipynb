{
  "nbformat": 4,
  "nbformat_minor": 0,
  "metadata": {
    "colab": {
      "name": "ICP 5.ipynb",
      "provenance": [],
      "collapsed_sections": []
    },
    "kernelspec": {
      "name": "python3",
      "display_name": "Python 3"
    },
    "accelerator": "GPU"
  },
  "cells": [
    {
      "cell_type": "code",
      "metadata": {
        "id": "2VTLciKPZqah"
      },
      "source": [
        "import pandas as pd\n",
        "import numpy\n",
        "import keras\n",
        "from keras.datasets import cifar10\n",
        "from keras.models import Sequential\n",
        "from keras.layers import Dense\n",
        "from keras.layers import Dropout\n",
        "from keras.layers import Flatten\n",
        "from keras.constraints import maxnorm\n",
        "from keras.optimizers import SGD, Adam\n",
        "from keras.layers.convolutional import Conv2D\n",
        "from keras.layers.convolutional import MaxPooling2D\n",
        "from keras.utils import np_utils\n",
        "from keras import backend as K\n",
        "from keras.callbacks import TensorBoard\n",
        "import tensorflow as tf\n",
        "from tensorflow import keras\n",
        "from tensorflow.keras import layers\n",
        "from tensorflow.keras.models import Sequential\n"
      ],
      "execution_count": null,
      "outputs": []
    },
    {
      "cell_type": "code",
      "metadata": {
        "id": "HUXFo2yecnEa"
      },
      "source": [
        "data = keras.datasets.cifar10"
      ],
      "execution_count": null,
      "outputs": []
    },
    {
      "cell_type": "code",
      "metadata": {
        "id": "LXGxTz-NZ_mf"
      },
      "source": [
        "(X_train, y_train), (X_test, y_test) = cifar10.load_data()"
      ],
      "execution_count": null,
      "outputs": []
    },
    {
      "cell_type": "code",
      "metadata": {
        "id": "8pVWGONhaC-s"
      },
      "source": [
        "seed = 7\n",
        "numpy.random.seed(seed)\n",
        "X_train = X_train.astype('float32')\n",
        "X_test = X_test.astype('float32')\n",
        "\n",
        "y_train = np_utils.to_categorical(y_train)\n",
        "y_test = np_utils.to_categorical(y_test)\n",
        "num_classes = y_test.shape[1]"
      ],
      "execution_count": null,
      "outputs": []
    },
    {
      "cell_type": "code",
      "metadata": {
        "id": "aElWdLWndIM4"
      },
      "source": [
        "label = {0 : 'airplane',\n",
        "          1 : 'automobile',\n",
        "          2 : 'bird',\n",
        "          3 : 'cat',\n",
        "          4 : 'deer',\n",
        "          5 : 'dog',\n",
        "          6 : 'frog',\n",
        "          7 : 'horse',\n",
        "          8 : 'ship',\n",
        "          9 : 'truck'}"
      ],
      "execution_count": null,
      "outputs": []
    },
    {
      "cell_type": "code",
      "metadata": {
        "id": "73aLjD0Oa_D8"
      },
      "source": [
        "\n",
        "\n",
        "img_height = 32\n",
        "img_width = 32\n",
        "model = Sequential([\n",
        "  layers.experimental.preprocessing.Rescaling(1./255, input_shape=(img_height, img_width, 3)),\n",
        "  layers.Conv2D(128, 3, padding='same', activation='relu'),\n",
        "  layers.Dropout(0.2),\n",
        "  layers.MaxPooling2D(pool_size=(2, 2)),\n",
        "  layers.Conv2D(64, 3, padding='same', activation='relu'),\n",
        "  layers.MaxPooling2D(),\n",
        "  layers.Conv2D(64, 3, padding='same', activation='relu'),\n",
        "  layers.MaxPooling2D(),\n",
        "  layers.Flatten(),\n",
        "  layers.Dense(32, activation='relu'),\n",
        "  layers.Dense(num_classes, activation='softmax')\n",
        "])"
      ],
      "execution_count": null,
      "outputs": []
    },
    {
      "cell_type": "code",
      "metadata": {
        "id": "meM7X4pvbr3r"
      },
      "source": [
        "epochs=50\n",
        "lrate = 0.01\n",
        "decay = lrate/epochs\n",
        "sgd = SGD(lr=lrate, momentum=0.9, decay=decay, nesterov=False)\n",
        "model.compile(loss='categorical_crossentropy', optimizer=sgd, metrics=['accuracy'])\n"
      ],
      "execution_count": null,
      "outputs": []
    },
    {
      "cell_type": "code",
      "metadata": {
        "id": "wAwH6-CTcFRz",
        "colab": {
          "base_uri": "https://localhost:8080/",
          "height": 527
        },
        "outputId": "17fa2fea-d149-4c0f-8785-4d4a402a6ea6"
      },
      "source": [
        "model.summary()"
      ],
      "execution_count": null,
      "outputs": [
        {
          "output_type": "stream",
          "text": [
            "Model: \"sequential_1\"\n",
            "_________________________________________________________________\n",
            "Layer (type)                 Output Shape              Param #   \n",
            "=================================================================\n",
            "rescaling_1 (Rescaling)      (None, 32, 32, 3)         0         \n",
            "_________________________________________________________________\n",
            "conv2d_3 (Conv2D)            (None, 32, 32, 128)       3584      \n",
            "_________________________________________________________________\n",
            "dropout_1 (Dropout)          (None, 32, 32, 128)       0         \n",
            "_________________________________________________________________\n",
            "max_pooling2d_3 (MaxPooling2 (None, 16, 16, 128)       0         \n",
            "_________________________________________________________________\n",
            "conv2d_4 (Conv2D)            (None, 16, 16, 64)        73792     \n",
            "_________________________________________________________________\n",
            "max_pooling2d_4 (MaxPooling2 (None, 8, 8, 64)          0         \n",
            "_________________________________________________________________\n",
            "conv2d_5 (Conv2D)            (None, 8, 8, 64)          36928     \n",
            "_________________________________________________________________\n",
            "max_pooling2d_5 (MaxPooling2 (None, 4, 4, 64)          0         \n",
            "_________________________________________________________________\n",
            "flatten_1 (Flatten)          (None, 1024)              0         \n",
            "_________________________________________________________________\n",
            "dense_2 (Dense)              (None, 32)                32800     \n",
            "_________________________________________________________________\n",
            "dense_3 (Dense)              (None, 10)                330       \n",
            "=================================================================\n",
            "Total params: 147,434\n",
            "Trainable params: 147,434\n",
            "Non-trainable params: 0\n",
            "_________________________________________________________________\n"
          ],
          "name": "stdout"
        }
      ]
    },
    {
      "cell_type": "code",
      "metadata": {
        "id": "JH-JhppqcISL",
        "colab": {
          "base_uri": "https://localhost:8080/",
          "height": 1000
        },
        "outputId": "d2071ba8-3fed-498c-bc2a-54bed7d54437"
      },
      "source": [
        " \n",
        " \n",
        "history = model.fit( X_train,y_train,validation_data=(X_test,y_test),epochs=epochs, batch_size=32)"
      ],
      "execution_count": null,
      "outputs": [
        {
          "output_type": "stream",
          "text": [
            "Epoch 1/50\n",
            "1563/1563 [==============================] - 9s 6ms/step - loss: 1.6630 - accuracy: 0.3908 - val_loss: 1.3004 - val_accuracy: 0.5341\n",
            "Epoch 2/50\n",
            "1563/1563 [==============================] - 8s 5ms/step - loss: 1.1848 - accuracy: 0.5787 - val_loss: 1.0958 - val_accuracy: 0.6161\n",
            "Epoch 3/50\n",
            "1563/1563 [==============================] - 9s 5ms/step - loss: 0.9866 - accuracy: 0.6527 - val_loss: 0.9670 - val_accuracy: 0.6576\n",
            "Epoch 4/50\n",
            "1563/1563 [==============================] - 8s 5ms/step - loss: 0.8641 - accuracy: 0.6965 - val_loss: 0.8859 - val_accuracy: 0.6938\n",
            "Epoch 5/50\n",
            "1563/1563 [==============================] - 8s 5ms/step - loss: 0.7728 - accuracy: 0.7284 - val_loss: 0.9107 - val_accuracy: 0.6813\n",
            "Epoch 6/50\n",
            "1563/1563 [==============================] - 8s 5ms/step - loss: 0.7003 - accuracy: 0.7532 - val_loss: 0.8709 - val_accuracy: 0.7019\n",
            "Epoch 7/50\n",
            "1563/1563 [==============================] - 8s 5ms/step - loss: 0.6468 - accuracy: 0.7728 - val_loss: 0.7983 - val_accuracy: 0.7239\n",
            "Epoch 8/50\n",
            "1563/1563 [==============================] - 8s 5ms/step - loss: 0.5936 - accuracy: 0.7922 - val_loss: 0.8303 - val_accuracy: 0.7174\n",
            "Epoch 9/50\n",
            "1563/1563 [==============================] - 9s 5ms/step - loss: 0.5466 - accuracy: 0.8092 - val_loss: 0.8687 - val_accuracy: 0.7185\n",
            "Epoch 10/50\n",
            "1563/1563 [==============================] - 8s 5ms/step - loss: 0.5071 - accuracy: 0.8209 - val_loss: 0.8110 - val_accuracy: 0.7261\n",
            "Epoch 11/50\n",
            "1563/1563 [==============================] - 8s 5ms/step - loss: 0.4702 - accuracy: 0.8360 - val_loss: 0.8130 - val_accuracy: 0.7318\n",
            "Epoch 12/50\n",
            "1563/1563 [==============================] - 8s 5ms/step - loss: 0.4351 - accuracy: 0.8476 - val_loss: 0.8304 - val_accuracy: 0.7312\n",
            "Epoch 13/50\n",
            "1563/1563 [==============================] - 8s 5ms/step - loss: 0.4012 - accuracy: 0.8593 - val_loss: 0.8369 - val_accuracy: 0.7323\n",
            "Epoch 14/50\n",
            "1563/1563 [==============================] - 8s 5ms/step - loss: 0.3732 - accuracy: 0.8692 - val_loss: 0.8575 - val_accuracy: 0.7270\n",
            "Epoch 15/50\n",
            "1563/1563 [==============================] - 8s 5ms/step - loss: 0.3472 - accuracy: 0.8780 - val_loss: 0.8563 - val_accuracy: 0.7325\n",
            "Epoch 16/50\n",
            "1563/1563 [==============================] - 9s 5ms/step - loss: 0.3225 - accuracy: 0.8879 - val_loss: 0.8813 - val_accuracy: 0.7323\n",
            "Epoch 17/50\n",
            "1563/1563 [==============================] - 8s 5ms/step - loss: 0.2978 - accuracy: 0.8955 - val_loss: 0.9150 - val_accuracy: 0.7274\n",
            "Epoch 18/50\n",
            "1563/1563 [==============================] - 9s 5ms/step - loss: 0.2769 - accuracy: 0.9038 - val_loss: 0.9412 - val_accuracy: 0.7324\n",
            "Epoch 19/50\n",
            "1563/1563 [==============================] - 9s 5ms/step - loss: 0.2529 - accuracy: 0.9115 - val_loss: 0.9672 - val_accuracy: 0.7275\n",
            "Epoch 20/50\n",
            "1563/1563 [==============================] - 9s 5ms/step - loss: 0.2342 - accuracy: 0.9195 - val_loss: 0.9697 - val_accuracy: 0.7268\n",
            "Epoch 21/50\n",
            "1563/1563 [==============================] - 9s 6ms/step - loss: 0.2137 - accuracy: 0.9262 - val_loss: 1.0384 - val_accuracy: 0.7275\n",
            "Epoch 22/50\n",
            "1563/1563 [==============================] - 9s 5ms/step - loss: 0.1988 - accuracy: 0.9320 - val_loss: 1.0976 - val_accuracy: 0.7198\n",
            "Epoch 23/50\n",
            "1563/1563 [==============================] - 8s 5ms/step - loss: 0.1859 - accuracy: 0.9356 - val_loss: 1.1021 - val_accuracy: 0.7254\n",
            "Epoch 24/50\n",
            "1563/1563 [==============================] - 8s 5ms/step - loss: 0.1675 - accuracy: 0.9432 - val_loss: 1.0992 - val_accuracy: 0.7243\n",
            "Epoch 25/50\n",
            "1563/1563 [==============================] - 8s 5ms/step - loss: 0.1506 - accuracy: 0.9501 - val_loss: 1.1322 - val_accuracy: 0.7312\n",
            "Epoch 26/50\n",
            "1563/1563 [==============================] - 8s 5ms/step - loss: 0.1406 - accuracy: 0.9525 - val_loss: 1.1572 - val_accuracy: 0.7311\n",
            "Epoch 27/50\n",
            "1563/1563 [==============================] - 8s 5ms/step - loss: 0.1287 - accuracy: 0.9566 - val_loss: 1.2153 - val_accuracy: 0.7230\n",
            "Epoch 28/50\n",
            "1563/1563 [==============================] - 9s 5ms/step - loss: 0.1173 - accuracy: 0.9615 - val_loss: 1.2245 - val_accuracy: 0.7270\n",
            "Epoch 29/50\n",
            "1563/1563 [==============================] - 9s 6ms/step - loss: 0.1079 - accuracy: 0.9646 - val_loss: 1.3099 - val_accuracy: 0.7233\n",
            "Epoch 30/50\n",
            "1563/1563 [==============================] - 8s 5ms/step - loss: 0.0983 - accuracy: 0.9687 - val_loss: 1.2941 - val_accuracy: 0.7282\n",
            "Epoch 31/50\n",
            "1563/1563 [==============================] - 8s 5ms/step - loss: 0.0894 - accuracy: 0.9715 - val_loss: 1.3413 - val_accuracy: 0.7254\n",
            "Epoch 32/50\n",
            "1563/1563 [==============================] - 8s 5ms/step - loss: 0.0829 - accuracy: 0.9739 - val_loss: 1.3917 - val_accuracy: 0.7260\n",
            "Epoch 33/50\n",
            "1563/1563 [==============================] - 8s 5ms/step - loss: 0.0763 - accuracy: 0.9760 - val_loss: 1.3953 - val_accuracy: 0.7282\n",
            "Epoch 34/50\n",
            "1563/1563 [==============================] - 8s 5ms/step - loss: 0.0656 - accuracy: 0.9804 - val_loss: 1.4228 - val_accuracy: 0.7285\n",
            "Epoch 35/50\n",
            "1563/1563 [==============================] - 8s 5ms/step - loss: 0.0617 - accuracy: 0.9821 - val_loss: 1.4906 - val_accuracy: 0.7267\n",
            "Epoch 36/50\n",
            "1563/1563 [==============================] - 8s 5ms/step - loss: 0.0558 - accuracy: 0.9841 - val_loss: 1.5193 - val_accuracy: 0.7252\n",
            "Epoch 37/50\n",
            "1563/1563 [==============================] - 9s 5ms/step - loss: 0.0469 - accuracy: 0.9882 - val_loss: 1.5735 - val_accuracy: 0.7258\n",
            "Epoch 38/50\n",
            "1563/1563 [==============================] - 8s 5ms/step - loss: 0.0458 - accuracy: 0.9876 - val_loss: 1.5410 - val_accuracy: 0.7262\n",
            "Epoch 39/50\n",
            "1563/1563 [==============================] - 8s 5ms/step - loss: 0.0424 - accuracy: 0.9887 - val_loss: 1.6091 - val_accuracy: 0.7268\n",
            "Epoch 40/50\n",
            "1563/1563 [==============================] - 8s 5ms/step - loss: 0.0378 - accuracy: 0.9905 - val_loss: 1.6249 - val_accuracy: 0.7336\n",
            "Epoch 41/50\n",
            "1563/1563 [==============================] - 8s 5ms/step - loss: 0.0356 - accuracy: 0.9915 - val_loss: 1.6267 - val_accuracy: 0.7241\n",
            "Epoch 42/50\n",
            "1563/1563 [==============================] - 8s 5ms/step - loss: 0.0332 - accuracy: 0.9920 - val_loss: 1.6842 - val_accuracy: 0.7273\n",
            "Epoch 43/50\n",
            "1563/1563 [==============================] - 8s 5ms/step - loss: 0.0298 - accuracy: 0.9933 - val_loss: 1.6952 - val_accuracy: 0.7234\n",
            "Epoch 44/50\n",
            "1563/1563 [==============================] - 8s 5ms/step - loss: 0.0282 - accuracy: 0.9941 - val_loss: 1.7404 - val_accuracy: 0.7268\n",
            "Epoch 45/50\n",
            "1563/1563 [==============================] - 9s 5ms/step - loss: 0.0279 - accuracy: 0.9936 - val_loss: 1.7584 - val_accuracy: 0.7282\n",
            "Epoch 46/50\n",
            "1563/1563 [==============================] - 8s 5ms/step - loss: 0.0235 - accuracy: 0.9953 - val_loss: 1.8023 - val_accuracy: 0.7255\n",
            "Epoch 47/50\n",
            "1563/1563 [==============================] - 8s 5ms/step - loss: 0.0208 - accuracy: 0.9964 - val_loss: 1.8165 - val_accuracy: 0.7255\n",
            "Epoch 48/50\n",
            "1563/1563 [==============================] - 8s 5ms/step - loss: 0.0199 - accuracy: 0.9968 - val_loss: 1.8173 - val_accuracy: 0.7258\n",
            "Epoch 49/50\n",
            "1563/1563 [==============================] - 8s 5ms/step - loss: 0.0193 - accuracy: 0.9965 - val_loss: 1.8518 - val_accuracy: 0.7275\n",
            "Epoch 50/50\n",
            "1563/1563 [==============================] - 8s 5ms/step - loss: 0.0176 - accuracy: 0.9972 - val_loss: 1.8579 - val_accuracy: 0.7272\n"
          ],
          "name": "stdout"
        }
      ]
    },
    {
      "cell_type": "code",
      "metadata": {
        "id": "lkz2dkfQ3IIy",
        "colab": {
          "base_uri": "https://localhost:8080/",
          "height": 34
        },
        "outputId": "218c7d17-5dff-4fc2-d520-4c30d3faba33"
      },
      "source": [
        "\n",
        "scores = model.evaluate(X_test, y_test, verbose=0)\n",
        "print(\"Accuracy: %.2f%%\" % (scores[1]*100))"
      ],
      "execution_count": null,
      "outputs": [
        {
          "output_type": "stream",
          "text": [
            "Accuracy: 72.72%\n"
          ],
          "name": "stdout"
        }
      ]
    },
    {
      "cell_type": "code",
      "metadata": {
        "id": "jwnLMydqCLYo",
        "colab": {
          "base_uri": "https://localhost:8080/",
          "height": 34
        },
        "outputId": "4ce00b01-b1e9-482c-d6e7-79ea08ac1e4b"
      },
      "source": [
        "y=model.predict_classes(X_train[[1],:])\n",
        "print(y[0])"
      ],
      "execution_count": null,
      "outputs": [
        {
          "output_type": "stream",
          "text": [
            "9\n"
          ],
          "name": "stdout"
        }
      ]
    },
    {
      "cell_type": "code",
      "metadata": {
        "id": "qyzuwyEqDjzt"
      },
      "source": [
        ""
      ],
      "execution_count": null,
      "outputs": []
    },
    {
      "cell_type": "code",
      "metadata": {
        "id": "lHRNkwreFMHF",
        "colab": {
          "base_uri": "https://localhost:8080/",
          "height": 283
        },
        "outputId": "7dd5f6ba-d92b-49ac-a211-eefca300ed94"
      },
      "source": [
        "from keras.preprocessing import image\n",
        "import numpy as np\n",
        "import matplotlib.pyplot as plt\n",
        "img = tf.keras.preprocessing.image.load_img('/content/1.jpg', target_size=(32, 32))\n",
        "plt.imshow(img)\n",
        "img = image.img_to_array(img)\n",
        "img = np.expand_dims(img, axis=0)\n",
        "img=model.predict(img)\n",
        "classes = np.argmax(img[0], axis = 0)\n",
        "print(classes,labels[classes])"
      ],
      "execution_count": null,
      "outputs": [
        {
          "output_type": "stream",
          "text": [
            "5 dog\n"
          ],
          "name": "stdout"
        },
        {
          "output_type": "display_data",
          "data": {
            "image/png": "[encoded data removed]",
            "text/plain": [
              "<Figure size 432x288 with 1 Axes>"
            ]
          },
          "metadata": {
            "tags": [],
            "needs_background": "light"
          }
        }
      ]
    },
    {
      "cell_type": "code",
      "metadata": {
        "id": "41VCktqASTFm",
        "colab": {
          "base_uri": "https://localhost:8080/",
          "height": 283
        },
        "outputId": "b656a6c8-9ac3-4361-a112-10060fd0d09a"
      },
      "source": [
        "img = tf.keras.preprocessing.image.load_img('/content/4.jpg', target_size=(32, 32))\n",
        "plt.imshow(img)\n",
        "img = image.img_to_array(img)\n",
        "img = np.expand_dims(img, axis=0)\n",
        "img=model.predict(img)\n",
        "classes = np.argmax(img[0], axis = 0)\n",
        "print(classes,labels[classes])"
      ],
      "execution_count": null,
      "outputs": [
        {
          "output_type": "stream",
          "text": [
            "2 bird\n"
          ],
          "name": "stdout"
        },
        {
          "output_type": "display_data",
          "data": {
            "image/png": "[encoded data removed]",
            "text/plain": [
              "<Figure size 432x288 with 1 Axes>"
            ]
          },
          "metadata": {
            "tags": [],
            "needs_background": "light"
          }
        }
      ]
    },
    {
      "cell_type": "code",
      "metadata": {
        "id": "YSFPxPDDfMCI",
        "colab": {
          "base_uri": "https://localhost:8080/",
          "height": 283
        },
        "outputId": "e2f12dd8-270b-40f2-a607-cdb431e02ad5"
      },
      "source": [
        "img = tf.keras.preprocessing.image.load_img('/content/2.jpg', target_size=(32, 32))\n",
        "plt.imshow(img)\n",
        "img = image.img_to_array(img)\n",
        "img = np.expand_dims(img, axis=0)\n",
        "img=model.predict(img)\n",
        "classes = np.argmax(img[0], axis = 0)\n",
        "print(classes,labels[classes])"
      ],
      "execution_count": null,
      "outputs": [
        {
          "output_type": "stream",
          "text": [
            "0 airplane\n"
          ],
          "name": "stdout"
        },
        {
          "output_type": "display_data",
          "data": {
            "image/png": "[encoded data removed]",
            "text/plain": [
              "<Figure size 432x288 with 1 Axes>"
            ]
          },
          "metadata": {
            "tags": [],
            "needs_background": "light"
          }
        }
      ]
    },
    {
      "cell_type": "code",
      "metadata": {
        "id": "7bq-_oI4fMMH",
        "colab": {
          "base_uri": "https://localhost:8080/",
          "height": 283
        },
        "outputId": "d53cb07a-23db-4e21-ff73-e23374672974"
      },
      "source": [
        "img = tf.keras.preprocessing.image.load_img('/content/3.jpg', target_size=(32, 32))\n",
        "plt.imshow(img)\n",
        "img = image.img_to_array(img)\n",
        "img = np.expand_dims(img, axis=0)\n",
        "img=model.predict(img)\n",
        "classes = np.argmax(img[0], axis = 0)\n",
        "print(classes,labels[classes])"
      ],
      "execution_count": null,
      "outputs": [
        {
          "output_type": "stream",
          "text": [
            "8 ship\n"
          ],
          "name": "stdout"
        },
        {
          "output_type": "display_data",
          "data": {
            "image/png": "[encoded data removed]",
            "text/plain": [
              "<Figure size 432x288 with 1 Axes>"
            ]
          },
          "metadata": {
            "tags": [],
            "needs_background": "light"
          }
        }
      ]
    },
    {
      "cell_type": "code",
      "metadata": {
        "id": "AqXUsuZsfMTn",
        "colab": {
          "base_uri": "https://localhost:8080/",
          "height": 283
        },
        "outputId": "023180af-a634-4697-b58e-e26418629d85"
      },
      "source": [
        "\n",
        "img = tf.keras.preprocessing.image.load_img('/content/5.jpg', target_size=(32, 32))\n",
        "plt.imshow(img)\n",
        "img = image.img_to_array(img)\n",
        "img = np.expand_dims(img, axis=0)\n",
        "img=model.predict(img)\n",
        "classes = np.argmax(img[0], axis = 0)\n",
        "print(classes,labels[classes])"
      ],
      "execution_count": null,
      "outputs": [
        {
          "output_type": "stream",
          "text": [
            "6 frog\n"
          ],
          "name": "stdout"
        },
        {
          "output_type": "display_data",
          "data": {
            "image/png": "[encoded data removed]",
            "text/plain": [
              "<Figure size 432x288 with 1 Axes>"
            ]
          },
          "metadata": {
            "tags": [],
            "needs_background": "light"
          }
        }
      ]
    }
  ]
}